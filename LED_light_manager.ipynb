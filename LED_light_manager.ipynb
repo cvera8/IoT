{
 "cells": [
  {
   "cell_type": "code",
   "execution_count": null,
   "metadata": {
    "collapsed": true
   },
   "outputs": [],
   "source": [
    "### need to be part of boot-up incase server restarts\n",
    "\n",
    "### need to log activity"
   ]
  },
  {
   "cell_type": "code",
   "execution_count": 39,
   "metadata": {
    "collapsed": true
   },
   "outputs": [],
   "source": [
    "import datetime\n",
    "import os\n",
    "import time\n",
    "import logging"
   ]
  },
  {
   "cell_type": "code",
   "execution_count": 36,
   "metadata": {
    "collapsed": true
   },
   "outputs": [],
   "source": [
    "begin_time = datetime.time(8,0)\n",
    "end_time = datetime.time(18,0)\n",
    "usb_path = \"/sys/bus/usb/drivers/usb/\"\n",
    "LED_STATUS = \"OFF\""
   ]
  },
  {
   "cell_type": "code",
   "execution_count": 6,
   "metadata": {
    "collapsed": true
   },
   "outputs": [],
   "source": [
    "def is_time_between(begin_time, end_time, check_time=None):\n",
    "    check_time = check_time or datetime.datetime.now().time()\n",
    "    print(\"checking the time - is \", check_time, \"between \", begin_time, \" and \", end_time, \"?\")\n",
    "    if begin_time < end_time:\n",
    "        return check_time >= begin_time and check_time <= end_time\n",
    "    else: #for cross-midnight situations\n",
    "        return check_time >= begin_time or check_time <= end_time"
   ]
  },
  {
   "cell_type": "code",
   "execution_count": 31,
   "metadata": {},
   "outputs": [],
   "source": [
    "def turn_on():\n",
    "    cmd = \"echo '1-1' | sudo tee \" + usb_path + \"bind\"\n",
    "    print(\"cmd = \", cmd)\n",
    "    os.system(cmd)\n",
    "\n",
    "def turn_off():\n",
    "    cmd = \"echo '1-1' | sudo tee \" + usb_path + \"unbind\"\n",
    "    print(\"cmd = \", cmd)\n",
    "    os.system(cmd)"
   ]
  },
  {
   "cell_type": "code",
   "execution_count": 38,
   "metadata": {},
   "outputs": [
    {
     "name": "stdout",
     "output_type": "stream",
     "text": [
      "LED is already ON - no action\n"
     ]
    }
   ],
   "source": [
    "# returns bool based on global time vars\n",
    "if is_time_between(begin_time, end_time) and LED_STATUS == \"OFF\":\n",
    "    print(\"Turning LED to ON\")\n",
    "    turn_on()\n",
    "    LED_STATUS = \"ON\"\n",
    "elif is_time_between(begin_time, end_time) and LED_STATUS == \"ON\":\n",
    "    print(\"LED is already ON - no action\")\n",
    "elif not is_time_between(begin_time, end_time) and LED_STATUS == \"ON\":\n",
    "    print(\"Turning LED to OFF\")\n",
    "    turn_off()\n",
    "    LED_STATUS = \"OFF\"\n",
    "elif not is_time_between(begin_time, end_time) and LED_STATUS == \"OFF\":\n",
    "    print(\"LED is already OFF - no action\")\n",
    "else:\n",
    "    print(\"how the HELL did we get here?!?\")"
   ]
  },
  {
   "cell_type": "code",
   "execution_count": 19,
   "metadata": {},
   "outputs": [
    {
     "name": "stdout",
     "output_type": "stream",
     "text": [
      "cmd =  echo '1-1' | sudo tee /sys/bus/usb/drivers/usb/bind\n"
     ]
    }
   ],
   "source": [
    "while(True):\n",
    "    time.sleep(300)"
   ]
  }
 ],
 "metadata": {
  "kernelspec": {
   "display_name": "Python 3",
   "language": "python",
   "name": "python3"
  },
  "language_info": {
   "codemirror_mode": {
    "name": "ipython",
    "version": 3
   },
   "file_extension": ".py",
   "mimetype": "text/x-python",
   "name": "python",
   "nbconvert_exporter": "python",
   "pygments_lexer": "ipython3",
   "version": "3.6.8"
  }
 },
 "nbformat": 4,
 "nbformat_minor": 2
}
